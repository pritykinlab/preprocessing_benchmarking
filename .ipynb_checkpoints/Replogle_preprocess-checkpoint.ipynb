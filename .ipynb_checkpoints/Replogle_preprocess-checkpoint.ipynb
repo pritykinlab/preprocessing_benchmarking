{
 "cells": [
  {
   "cell_type": "code",
   "execution_count": null,
   "id": "6640b328-61b2-42b5-87fb-172856f6cd11",
   "metadata": {},
   "outputs": [],
   "source": [
    "import pandas as pd\n",
    "import math\n",
    "import seaborn as sns\n",
    "import numpy as np\n",
    "import matplotlib.pyplot as plt\n",
    "import sys\n",
    "import gzip as gz\n",
    "import scipy\n",
    "from importlib import reload\n",
    "import glob\n",
    "import tqdm\n",
    "import itertools\n",
    "from scipy.spatial.distance import cdist\n",
    "import scanpy as sc\n",
    "\n",
    "import sys\n",
    "sys.path.append('/Genomics/pritykinlab/dillon/perturbseq/scripts/utils')\n",
    "import dataloader\n",
    "import umap_analysis\n",
    "import reimplementation\n",
    "import normalization\n",
    "import adata_utils\n",
    "from scipy.stats import mannwhitneyu"
   ]
  },
  {
   "cell_type": "code",
   "execution_count": null,
   "id": "d15a15cb-0d90-4d58-9370-2ffdee792fcd",
   "metadata": {},
   "outputs": [],
   "source": [
    "plt.rcParams[\"axes.titlesize\"] = 25\n",
    "plt.rcParams[\"axes.labelsize\"] = 25\n",
    "plt.rcParams[\"xtick.labelsize\"] = 20\n",
    "plt.rcParams[\"ytick.labelsize\"] = 20\n",
    "plt.rcParams[\"lines.markersize\"] = 5\n",
    "plt.rcParams['axes.grid'] = False\n",
    "plt.rcParams['xtick.bottom'] = True\n",
    "plt.rcParams['ytick.left'] = True\n",
    "plt.rcParams['xtick.major.size'] = 5\n",
    "plt.rcParams['xtick.minor.size'] = 3\n",
    "plt.rcParams['ytick.major.size'] = 5\n",
    "plt.rcParams['ytick.minor.size'] = 3\n",
    "plt.rcParams['axes.labelcolor'] = 'black'\n",
    "plt.rcParams['axes.edgecolor'] = 'black'\n",
    "plt.rcParams['xtick.color'] = 'black'\n",
    "plt.rcParams['legend.fontsize'] = 15\n",
    "plt.rcParams['legend.title_fontsize'] = 15\n",
    "plt.rcParams['legend.edgecolor'] = 'dimgray'"
   ]
  }
 ],
 "metadata": {
  "kernelspec": {
   "display_name": "Python 3 (ipykernel)",
   "language": "python",
   "name": "python3"
  },
  "language_info": {
   "codemirror_mode": {
    "name": "ipython",
    "version": 3
   },
   "file_extension": ".py",
   "mimetype": "text/x-python",
   "name": "python",
   "nbconvert_exporter": "python",
   "pygments_lexer": "ipython3",
   "version": "3.9.17"
  }
 },
 "nbformat": 4,
 "nbformat_minor": 5
}
