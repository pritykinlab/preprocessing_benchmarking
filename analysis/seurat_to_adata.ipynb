{
 "cells": [
  {
   "cell_type": "code",
   "execution_count": 3,
   "id": "2eb08bcc",
   "metadata": {},
   "outputs": [
    {
     "name": "stderr",
     "output_type": "stream",
     "text": [
      "/Genomics/argo/users/yq7946/.conda/envs/deseq2/lib/python3.11/site-packages/anndata/__init__.py:55: FutureWarning: `anndata.read` is deprecated, use `anndata.read_h5ad` instead. `ad.read` will be removed in mid 2024.\n",
      "  warnings.warn(\n"
     ]
    }
   ],
   "source": [
    "import scanpy as sc\n",
    "import pandas as pd\n",
    "\n",
    "dir_path = \"/Genomics/pritykinlab/yujie/preprocessing_benchmarking/datasets/seurat_files/DatlingerBock2021\"\n",
    "\n",
    "# Load the data into a Scanpy AnnData object\n",
    "adata = sc.read(f'{dir_path}/matrix.mtx', cache=True)  # transpose the data\n",
    "adata.var_names = open(f'{dir_path}/features.tsv').read().splitlines()\n",
    "adata.obs_names = open(f'{dir_path}/barcodes.tsv').read().splitlines()"
   ]
  },
  {
   "cell_type": "code",
   "execution_count": 4,
   "id": "153bce02",
   "metadata": {},
   "outputs": [
    {
     "data": {
      "text/plain": [
       "Index(['TSPAN6', 'TNMD', 'DPM1', 'SCYL3', 'C1orf112', 'FGR', 'CFH', 'FUCA2',\n",
       "       'GCLC', 'NFYA',\n",
       "       ...\n",
       "       'LBHD2', 'LOC124904963', 'ENSG00000283075', 'ENSG00000283078',\n",
       "       'LINC02498', 'ENSG00000283088', 'ENSG00000283095', 'ENSG00000283096',\n",
       "       'ENSG00000283103', 'MGC4859'],\n",
       "      dtype='object', length=25904)"
      ]
     },
     "execution_count": 4,
     "metadata": {},
     "output_type": "execute_result"
    }
   ],
   "source": [
    "adata.var_names"
   ]
  },
  {
   "cell_type": "code",
   "execution_count": 5,
   "id": "b9b56e5c",
   "metadata": {},
   "outputs": [
    {
     "data": {
      "text/plain": [
       "Index(['A01-ACTTTCAGTAACGGAC', 'A01-AGCTGATTCGCTGATA', 'A01-CCTTAATTCCAGAGAG',\n",
       "       'A01-CTCTAGCGTCTGGGAA', 'A01-GCGATTAGTGATAGAT', 'A01-GCGGTGTTCATCGCAC',\n",
       "       'A01-GCGGTGTTCATCGCTC', 'A01-GCGTAGCAGAGGTACC', 'A01-GCGTAGCCGAGGTACC',\n",
       "       'A01-GGCACGTGTCCAGACC',\n",
       "       ...\n",
       "       'P24-TGGCCTTCACGCTCAG', 'P24-TGGGTTAAGACTTGAA', 'P24-TGGGTTAATACTTGAA',\n",
       "       'P24-TTACTTGAGCCGCAAA', 'P24-TTCATTGAGTACAACA', 'P24-TTCATTGTCTCCACTG',\n",
       "       'P24-TTCGATTCATAAAGTG', 'P24-TTGCACCGTCCGGTAC', 'P24-TTGTCTATCAAACCAC',\n",
       "       'P24-TTGTTCATCAAACCAC'],\n",
       "      dtype='object', length=39194)"
      ]
     },
     "execution_count": 5,
     "metadata": {},
     "output_type": "execute_result"
    }
   ],
   "source": [
    "adata.obs_names"
   ]
  },
  {
   "cell_type": "code",
   "execution_count": 8,
   "id": "ca518bc8",
   "metadata": {},
   "outputs": [],
   "source": [
    "import os\n",
    "\n",
    "dir_path = \"/Genomics/pritykinlab/yujie/preprocessing_benchmarking/datasets/adata_files/DatlingerBock2021\"\n",
    "\n",
    "# Check if the directory exists\n",
    "if not os.path.exists(dir_path):\n",
    "    # If not, create the directory (including any necessary intermediate directories)\n",
    "    os.makedirs(dir_path)\n",
    "\n",
    "# Write the AnnData object to a file\n",
    "adata.write(f'{dir_path}/adata.h5ad')"
   ]
  }
 ],
 "metadata": {
  "kernelspec": {
   "display_name": "Python 3 (ipykernel)",
   "language": "python",
   "name": "python3"
  },
  "language_info": {
   "codemirror_mode": {
    "name": "ipython",
    "version": 3
   },
   "file_extension": ".py",
   "mimetype": "text/x-python",
   "name": "python",
   "nbconvert_exporter": "python",
   "pygments_lexer": "ipython3",
   "version": "3.11.0"
  }
 },
 "nbformat": 4,
 "nbformat_minor": 5
}
