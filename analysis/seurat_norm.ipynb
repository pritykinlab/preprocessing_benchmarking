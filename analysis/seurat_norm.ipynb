{
 "cells": [
  {
   "cell_type": "markdown",
   "id": "2bf69223",
   "metadata": {},
   "source": [
    "## Conversion"
   ]
  },
  {
   "cell_type": "code",
   "execution_count": 2,
   "id": "2a973712",
   "metadata": {},
   "outputs": [
    {
     "name": "stderr",
     "output_type": "stream",
     "text": [
      "Loading required package: SeuratObject\n",
      "\n",
      "Loading required package: sp\n",
      "\n",
      "\n",
      "Attaching package: ‘SeuratObject’\n",
      "\n",
      "\n",
      "The following object is masked from ‘package:base’:\n",
      "\n",
      "    intersect\n",
      "\n",
      "\n",
      "Warning message:\n",
      "“Data is of class data.frame. Coercing to dgCMatrix.”\n"
     ]
    }
   ],
   "source": [
    "library(Seurat)\n",
    "\n",
    "# Define your directory path\n",
    "dir_path <- \"/Genomics/pritykinlab/yujie/preprocessing_benchmarking/datasets/count_mtx/DatlingerBock2021\"\n",
    "\n",
    "# Construct the file path\n",
    "file_path <- file.path(dir_path, \"count_matrix.csv\")\n",
    "\n",
    "# Load the count matrix\n",
    "count_matrix <- read.csv(file_path, row.names = 1)\n",
    "\n",
    "\n",
    "# Create Seurat object\n",
    "data3 <- CreateSeuratObject(counts = count_matrix)"
   ]
  },
  {
   "cell_type": "code",
   "execution_count": 8,
   "id": "2846261a",
   "metadata": {},
   "outputs": [],
   "source": [
    "# Get the count matrix, feature and cell barcode data\n",
    "rna_counts <- GetAssayData(data3, assay = \"RNA\", slot = \"counts\")\n",
    "features <- colnames(rna_counts)\n",
    "barcodes <- rownames(rna_counts)"
   ]
  },
  {
   "cell_type": "code",
   "execution_count": 9,
   "id": "1f85c73a",
   "metadata": {},
   "outputs": [
    {
     "data": {
      "text/plain": [
       "NULL"
      ]
     },
     "metadata": {},
     "output_type": "display_data"
    }
   ],
   "source": [
    "# Define your directory path\n",
    "dir_path <- \"/Genomics/pritykinlab/yujie/preprocessing_benchmarking/datasets/seurat_files/DatlingerBock2021\"\n",
    "\n",
    "# Ensure the directory exists, and if not, create it\n",
    "if (!dir.exists(dir_path)) {\n",
    "  dir.create(dir_path, recursive = TRUE)\n",
    "}\n",
    "\n",
    "# Assuming `rna_counts` is your count matrix, `features` are your features, and `barcodes` are your cell barcodes\n",
    "\n",
    "library(Matrix)\n",
    "\n",
    "# Write the data to files using the full file path construction\n",
    "writeMM(rna_counts, file.path(dir_path, \"matrix.mtx\"))\n",
    "\n",
    "# Write features and barcodes to TSV files\n",
    "write.table(features, file.path(dir_path, \"features.tsv\"), sep=\"\\t\", quote=FALSE, row.names=FALSE, col.names=FALSE)\n",
    "write.table(barcodes, file.path(dir_path, \"barcodes.tsv\"), sep=\"\\t\", quote=FALSE, row.names=FALSE, col.names=FALSE)"
   ]
  },
  {
   "cell_type": "code",
   "execution_count": null,
   "id": "1db2a1e0",
   "metadata": {},
   "outputs": [],
   "source": []
  }
 ],
 "metadata": {
  "kernelspec": {
   "display_name": "deseq2",
   "language": "R",
   "name": "deseq2"
  },
  "language_info": {
   "codemirror_mode": "r",
   "file_extension": ".r",
   "mimetype": "text/x-r-source",
   "name": "R",
   "pygments_lexer": "r",
   "version": "4.1.3"
  }
 },
 "nbformat": 4,
 "nbformat_minor": 5
}
