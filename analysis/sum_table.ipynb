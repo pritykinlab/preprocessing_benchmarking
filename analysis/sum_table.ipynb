{
 "cells": [
  {
   "cell_type": "code",
   "execution_count": 1,
   "id": "010e9697-70a0-4b9c-b79c-dd595406626f",
   "metadata": {},
   "outputs": [
    {
     "name": "stdout",
     "output_type": "stream",
     "text": [
      "finished:  /Genomics/pritykinlab/yujie/preprocessing_benchmarking/datasets/harmonized_perturb_datasets/AdamsonWeissman2016_GSM2406681_10X010.h5ad\n",
      "finished:  /Genomics/pritykinlab/yujie/preprocessing_benchmarking/datasets/harmonized_perturb_datasets/PapalexiSatija2021_eccite_arrayed_RNA.h5ad\n",
      "finished:  /Genomics/pritykinlab/yujie/preprocessing_benchmarking/datasets/harmonized_perturb_datasets/PapalexiSatija2021_eccite_RNA.h5ad\n",
      "finished:  /Genomics/pritykinlab/yujie/preprocessing_benchmarking/datasets/harmonized_perturb_datasets/NormanWeissman2019_filtered.h5ad\n",
      "finished:  /Genomics/pritykinlab/yujie/preprocessing_benchmarking/datasets/harmonized_perturb_datasets/TianKampmann2021_CRISPRi.h5ad\n",
      "finished:  /Genomics/pritykinlab/yujie/preprocessing_benchmarking/datasets/harmonized_perturb_datasets/DatlingerBock2017.h5ad\n",
      "finished:  /Genomics/pritykinlab/yujie/preprocessing_benchmarking/datasets/harmonized_perturb_datasets/SrivatsanTrapnell2020_sciplex4.h5ad\n",
      "finished:  /Genomics/pritykinlab/yujie/preprocessing_benchmarking/datasets/harmonized_perturb_datasets/TianKampmann2021_CRISPRa.h5ad\n",
      "finished:  /Genomics/pritykinlab/yujie/preprocessing_benchmarking/datasets/harmonized_perturb_datasets/ChangYe2021.h5ad\n",
      "finished:  /Genomics/pritykinlab/yujie/preprocessing_benchmarking/datasets/harmonized_perturb_datasets/DatlingerBock2021.h5ad\n",
      "finished:  /Genomics/pritykinlab/yujie/preprocessing_benchmarking/datasets/harmonized_perturb_datasets/SchiebingerLander2019_GSE106340.h5ad\n",
      "finished:  /Genomics/pritykinlab/yujie/preprocessing_benchmarking/datasets/harmonized_perturb_datasets/ShifrutMarson2018.h5ad\n",
      "finished:  /Genomics/pritykinlab/yujie/preprocessing_benchmarking/datasets/harmonized_perturb_datasets/DixitRegev2016.h5ad\n",
      "finished:  /Genomics/pritykinlab/yujie/preprocessing_benchmarking/datasets/harmonized_perturb_datasets/TianKampmann2019_day7neuron.h5ad\n",
      "finished:  /Genomics/pritykinlab/yujie/preprocessing_benchmarking/datasets/harmonized_perturb_datasets/SrivatsanTrapnell2020_sciplex2.h5ad\n",
      "finished:  /Genomics/pritykinlab/yujie/preprocessing_benchmarking/datasets/harmonized_perturb_datasets/AissaBenevolenskaya2021.h5ad\n",
      "finished:  /Genomics/pritykinlab/yujie/preprocessing_benchmarking/datasets/harmonized_perturb_datasets/ZhaoSims2021.h5ad\n",
      "finished:  /Genomics/pritykinlab/yujie/preprocessing_benchmarking/datasets/harmonized_perturb_datasets/XieHon2017.h5ad\n",
      "finished:  /Genomics/pritykinlab/yujie/preprocessing_benchmarking/datasets/harmonized_perturb_datasets/AdamsonWeissman2016_GSM2406675_10X001.h5ad\n",
      "finished:  /Genomics/pritykinlab/yujie/preprocessing_benchmarking/datasets/harmonized_perturb_datasets/AdamsonWeissman2016_GSM2406677_10X005.h5ad\n",
      "finished:  /Genomics/pritykinlab/yujie/preprocessing_benchmarking/datasets/CITE_seq/10x_CITE_seq/h5ad/4plex_DTC_kidney_lung_breast_TotalSeqC_multiplex_Lung_Cancer_BC4_AB4.h5ad\n"
     ]
    },
    {
     "name": "stderr",
     "output_type": "stream",
     "text": [
      "/Genomics/argo/users/yq7946/.conda/envs/myenv/lib/python3.9/site-packages/anndata/_core/anndata.py:1840: UserWarning: Variable names are not unique. To make them unique, call `.var_names_make_unique`.\n",
      "  utils.warn_names_duplicates(\"var\")\n",
      "/Genomics/argo/users/yq7946/.conda/envs/myenv/lib/python3.9/site-packages/anndata/_core/anndata.py:1840: UserWarning: Variable names are not unique. To make them unique, call `.var_names_make_unique`.\n",
      "  utils.warn_names_duplicates(\"var\")\n",
      "/Genomics/argo/users/yq7946/.conda/envs/myenv/lib/python3.9/site-packages/anndata/_core/anndata.py:1840: UserWarning: Variable names are not unique. To make them unique, call `.var_names_make_unique`.\n",
      "  utils.warn_names_duplicates(\"var\")\n",
      "/Genomics/argo/users/yq7946/.conda/envs/myenv/lib/python3.9/site-packages/anndata/_core/anndata.py:1840: UserWarning: Variable names are not unique. To make them unique, call `.var_names_make_unique`.\n",
      "  utils.warn_names_duplicates(\"var\")\n"
     ]
    },
    {
     "name": "stdout",
     "output_type": "stream",
     "text": [
      "finished:  /Genomics/pritykinlab/yujie/preprocessing_benchmarking/datasets/CITE_seq/10x_CITE_seq/h5ad/5k_pbmc_protein_v3_nextgem.h5ad\n",
      "finished:  /Genomics/pritykinlab/yujie/preprocessing_benchmarking/datasets/CITE_seq/10x_CITE_seq/h5ad/16plex_human_PBMC_TotalSeqC_multiplex_PBMC_14_BC14_AB14.h5ad\n",
      "finished:  /Genomics/pritykinlab/yujie/preprocessing_benchmarking/datasets/CITE_seq/10x_CITE_seq/h5ad/16plex_human_PBMC_TotalSeqC_multiplex_PBMC_02_BC2_AB2.h5ad\n",
      "finished:  /Genomics/pritykinlab/yujie/preprocessing_benchmarking/datasets/CITE_seq/10x_CITE_seq/h5ad/4plex_DTC_kidney_lung_breast_TotalSeqC_multiplex_Breast_Cancer_BC3_AB3.h5ad\n"
     ]
    },
    {
     "name": "stderr",
     "output_type": "stream",
     "text": [
      "/Genomics/argo/users/yq7946/.conda/envs/myenv/lib/python3.9/site-packages/anndata/_core/anndata.py:1840: UserWarning: Variable names are not unique. To make them unique, call `.var_names_make_unique`.\n",
      "  utils.warn_names_duplicates(\"var\")\n",
      "/Genomics/argo/users/yq7946/.conda/envs/myenv/lib/python3.9/site-packages/anndata/_core/anndata.py:1840: UserWarning: Variable names are not unique. To make them unique, call `.var_names_make_unique`.\n",
      "  utils.warn_names_duplicates(\"var\")\n",
      "/Genomics/argo/users/yq7946/.conda/envs/myenv/lib/python3.9/site-packages/anndata/_core/anndata.py:1840: UserWarning: Variable names are not unique. To make them unique, call `.var_names_make_unique`.\n",
      "  utils.warn_names_duplicates(\"var\")\n",
      "/Genomics/argo/users/yq7946/.conda/envs/myenv/lib/python3.9/site-packages/anndata/_core/anndata.py:1840: UserWarning: Variable names are not unique. To make them unique, call `.var_names_make_unique`.\n",
      "  utils.warn_names_duplicates(\"var\")\n"
     ]
    },
    {
     "name": "stdout",
     "output_type": "stream",
     "text": [
      "finished:  /Genomics/pritykinlab/yujie/preprocessing_benchmarking/datasets/CITE_seq/10x_CITE_seq/h5ad/16plex_human_PBMC_TotalSeqC_multiplex_PBMC_07_BC7_AB7.h5ad\n",
      "finished:  /Genomics/pritykinlab/yujie/preprocessing_benchmarking/datasets/CITE_seq/10x_CITE_seq/h5ad/4plex_DTC_kidney_lung_breast_TotalSeqC_multiplex_Kidney_Cancer2_BC2_AB2.h5ad\n",
      "finished:  /Genomics/pritykinlab/yujie/preprocessing_benchmarking/datasets/CITE_seq/10x_CITE_seq/h5ad/4plex_mouse_LymphNode_Spleen_TotalSeqC_multiplex_Spleen2_BC4_AB4.h5ad\n",
      "finished:  /Genomics/pritykinlab/yujie/preprocessing_benchmarking/datasets/CITE_seq/10x_CITE_seq/h5ad/16plex_human_PBMC_TotalSeqC_multiplex_PBMC_12_BC12_AB12.h5ad\n"
     ]
    },
    {
     "name": "stderr",
     "output_type": "stream",
     "text": [
      "/Genomics/argo/users/yq7946/.conda/envs/myenv/lib/python3.9/site-packages/anndata/_core/anndata.py:1840: UserWarning: Variable names are not unique. To make them unique, call `.var_names_make_unique`.\n",
      "  utils.warn_names_duplicates(\"var\")\n",
      "/Genomics/argo/users/yq7946/.conda/envs/myenv/lib/python3.9/site-packages/anndata/_core/anndata.py:1840: UserWarning: Variable names are not unique. To make them unique, call `.var_names_make_unique`.\n",
      "  utils.warn_names_duplicates(\"var\")\n",
      "/Genomics/argo/users/yq7946/.conda/envs/myenv/lib/python3.9/site-packages/anndata/_core/anndata.py:1840: UserWarning: Variable names are not unique. To make them unique, call `.var_names_make_unique`.\n",
      "  utils.warn_names_duplicates(\"var\")\n",
      "/Genomics/argo/users/yq7946/.conda/envs/myenv/lib/python3.9/site-packages/anndata/_core/anndata.py:1840: UserWarning: Variable names are not unique. To make them unique, call `.var_names_make_unique`.\n",
      "  utils.warn_names_duplicates(\"var\")\n"
     ]
    },
    {
     "name": "stdout",
     "output_type": "stream",
     "text": [
      "finished:  /Genomics/pritykinlab/yujie/preprocessing_benchmarking/datasets/CITE_seq/10x_CITE_seq/h5ad/pbmc_10k_protein_v3.h5ad\n",
      "finished:  /Genomics/pritykinlab/yujie/preprocessing_benchmarking/datasets/CITE_seq/10x_CITE_seq/h5ad/16plex_human_PBMC_TotalSeqC_multiplex_PBMC_09_BC9_AB9.h5ad\n",
      "finished:  /Genomics/pritykinlab/yujie/preprocessing_benchmarking/datasets/CITE_seq/10x_CITE_seq/h5ad/pbmc_1k_protein_v3.h5ad\n",
      "finished:  /Genomics/pritykinlab/yujie/preprocessing_benchmarking/datasets/CITE_seq/10x_CITE_seq/h5ad/16plex_human_PBMC_TotalSeqC_multiplex_PBMC_06_BC6_AB6.h5ad\n"
     ]
    },
    {
     "name": "stderr",
     "output_type": "stream",
     "text": [
      "/Genomics/argo/users/yq7946/.conda/envs/myenv/lib/python3.9/site-packages/anndata/_core/anndata.py:1840: UserWarning: Variable names are not unique. To make them unique, call `.var_names_make_unique`.\n",
      "  utils.warn_names_duplicates(\"var\")\n",
      "/Genomics/argo/users/yq7946/.conda/envs/myenv/lib/python3.9/site-packages/anndata/_core/anndata.py:1840: UserWarning: Variable names are not unique. To make them unique, call `.var_names_make_unique`.\n",
      "  utils.warn_names_duplicates(\"var\")\n",
      "/Genomics/argo/users/yq7946/.conda/envs/myenv/lib/python3.9/site-packages/anndata/_core/anndata.py:1840: UserWarning: Variable names are not unique. To make them unique, call `.var_names_make_unique`.\n",
      "  utils.warn_names_duplicates(\"var\")\n",
      "/Genomics/argo/users/yq7946/.conda/envs/myenv/lib/python3.9/site-packages/anndata/_core/anndata.py:1840: UserWarning: Variable names are not unique. To make them unique, call `.var_names_make_unique`.\n",
      "  utils.warn_names_duplicates(\"var\")\n"
     ]
    },
    {
     "name": "stdout",
     "output_type": "stream",
     "text": [
      "finished:  /Genomics/pritykinlab/yujie/preprocessing_benchmarking/datasets/CITE_seq/10x_CITE_seq/h5ad/16plex_human_PBMC_TotalSeqC_multiplex_PBMC_16_BC16_AB16.h5ad\n",
      "finished:  /Genomics/pritykinlab/yujie/preprocessing_benchmarking/datasets/CITE_seq/10x_CITE_seq/h5ad/5k_pbmc_protein_v3.h5ad\n",
      "finished:  /Genomics/pritykinlab/yujie/preprocessing_benchmarking/datasets/CITE_seq/10x_CITE_seq/h5ad/4plex_mouse_LymphNode_Spleen_TotalSeqC_multiplex_LymphNode1_BC1_AB1.h5ad\n",
      "finished:  /Genomics/pritykinlab/yujie/preprocessing_benchmarking/datasets/CITE_seq/10x_CITE_seq/h5ad/16plex_human_PBMC_TotalSeqC_multiplex_PBMC_10_BC10_AB10.h5ad\n"
     ]
    },
    {
     "name": "stderr",
     "output_type": "stream",
     "text": [
      "/Genomics/argo/users/yq7946/.conda/envs/myenv/lib/python3.9/site-packages/anndata/_core/anndata.py:1840: UserWarning: Variable names are not unique. To make them unique, call `.var_names_make_unique`.\n",
      "  utils.warn_names_duplicates(\"var\")\n",
      "/Genomics/argo/users/yq7946/.conda/envs/myenv/lib/python3.9/site-packages/anndata/_core/anndata.py:1840: UserWarning: Variable names are not unique. To make them unique, call `.var_names_make_unique`.\n",
      "  utils.warn_names_duplicates(\"var\")\n",
      "/Genomics/argo/users/yq7946/.conda/envs/myenv/lib/python3.9/site-packages/anndata/_core/anndata.py:1840: UserWarning: Variable names are not unique. To make them unique, call `.var_names_make_unique`.\n",
      "  utils.warn_names_duplicates(\"var\")\n",
      "/Genomics/argo/users/yq7946/.conda/envs/myenv/lib/python3.9/site-packages/anndata/_core/anndata.py:1840: UserWarning: Variable names are not unique. To make them unique, call `.var_names_make_unique`.\n",
      "  utils.warn_names_duplicates(\"var\")\n"
     ]
    },
    {
     "name": "stdout",
     "output_type": "stream",
     "text": [
      "finished:  /Genomics/pritykinlab/yujie/preprocessing_benchmarking/datasets/CITE_seq/10x_CITE_seq/h5ad/16plex_human_PBMC_TotalSeqC_multiplex_PBMC_08_BC8_AB8.h5ad\n",
      "finished:  /Genomics/pritykinlab/yujie/preprocessing_benchmarking/datasets/CITE_seq/10x_CITE_seq/h5ad/16plex_human_PBMC_TotalSeqC_multiplex_PBMC_11_BC11_AB11.h5ad\n",
      "finished:  /Genomics/pritykinlab/yujie/preprocessing_benchmarking/datasets/CITE_seq/10x_CITE_seq/h5ad/5k_human_antiCMV_T_TBNK_connect_5k_human_antiCMV_T_TBNK_connect.h5ad\n",
      "finished:  /Genomics/pritykinlab/yujie/preprocessing_benchmarking/datasets/CITE_seq/10x_CITE_seq/h5ad/16plex_human_PBMC_TotalSeqC_multiplex_PBMC_15_BC15_AB15.h5ad\n"
     ]
    },
    {
     "name": "stderr",
     "output_type": "stream",
     "text": [
      "/Genomics/argo/users/yq7946/.conda/envs/myenv/lib/python3.9/site-packages/anndata/_core/anndata.py:1840: UserWarning: Variable names are not unique. To make them unique, call `.var_names_make_unique`.\n",
      "  utils.warn_names_duplicates(\"var\")\n",
      "/Genomics/argo/users/yq7946/.conda/envs/myenv/lib/python3.9/site-packages/anndata/_core/anndata.py:1840: UserWarning: Variable names are not unique. To make them unique, call `.var_names_make_unique`.\n",
      "  utils.warn_names_duplicates(\"var\")\n",
      "/Genomics/argo/users/yq7946/.conda/envs/myenv/lib/python3.9/site-packages/anndata/_core/anndata.py:1840: UserWarning: Variable names are not unique. To make them unique, call `.var_names_make_unique`.\n",
      "  utils.warn_names_duplicates(\"var\")\n",
      "/Genomics/argo/users/yq7946/.conda/envs/myenv/lib/python3.9/site-packages/anndata/_core/anndata.py:1840: UserWarning: Variable names are not unique. To make them unique, call `.var_names_make_unique`.\n",
      "  utils.warn_names_duplicates(\"var\")\n"
     ]
    },
    {
     "name": "stdout",
     "output_type": "stream",
     "text": [
      "finished:  /Genomics/pritykinlab/yujie/preprocessing_benchmarking/datasets/CITE_seq/10x_CITE_seq/h5ad/4plex_DTC_kidney_lung_breast_TotalSeqC_multiplex_Kidney_Cancer1_BC1_AB1.h5ad\n",
      "finished:  /Genomics/pritykinlab/yujie/preprocessing_benchmarking/datasets/CITE_seq/10x_CITE_seq/h5ad/10k_PBMC_TBNK_connect_10k_PBMC_TBNK_connect.h5ad\n",
      "finished:  /Genomics/pritykinlab/yujie/preprocessing_benchmarking/datasets/CITE_seq/10x_CITE_seq/h5ad/4plex_mouse_LymphNode_Spleen_TotalSeqC_multiplex_LymphNode2_BC2_AB2.h5ad\n",
      "finished:  /Genomics/pritykinlab/yujie/preprocessing_benchmarking/datasets/CITE_seq/10x_CITE_seq/h5ad/vdj_v1_hs_pbmc2_5gex_protein.h5ad\n"
     ]
    },
    {
     "name": "stderr",
     "output_type": "stream",
     "text": [
      "/Genomics/argo/users/yq7946/.conda/envs/myenv/lib/python3.9/site-packages/anndata/_core/anndata.py:1840: UserWarning: Variable names are not unique. To make them unique, call `.var_names_make_unique`.\n",
      "  utils.warn_names_duplicates(\"var\")\n",
      "/Genomics/argo/users/yq7946/.conda/envs/myenv/lib/python3.9/site-packages/anndata/_core/anndata.py:1840: UserWarning: Variable names are not unique. To make them unique, call `.var_names_make_unique`.\n",
      "  utils.warn_names_duplicates(\"var\")\n",
      "/Genomics/argo/users/yq7946/.conda/envs/myenv/lib/python3.9/site-packages/anndata/_core/anndata.py:1840: UserWarning: Variable names are not unique. To make them unique, call `.var_names_make_unique`.\n",
      "  utils.warn_names_duplicates(\"var\")\n",
      "/Genomics/argo/users/yq7946/.conda/envs/myenv/lib/python3.9/site-packages/anndata/_core/anndata.py:1840: UserWarning: Variable names are not unique. To make them unique, call `.var_names_make_unique`.\n",
      "  utils.warn_names_duplicates(\"var\")\n"
     ]
    },
    {
     "name": "stdout",
     "output_type": "stream",
     "text": [
      "finished:  /Genomics/pritykinlab/yujie/preprocessing_benchmarking/datasets/CITE_seq/10x_CITE_seq/h5ad/malt_10k_protein_v3.h5ad\n",
      "finished:  /Genomics/pritykinlab/yujie/preprocessing_benchmarking/datasets/CITE_seq/10x_CITE_seq/h5ad/16plex_human_PBMC_TotalSeqC_multiplex_PBMC_03_BC3_AB3.h5ad\n",
      "finished:  /Genomics/pritykinlab/yujie/preprocessing_benchmarking/datasets/CITE_seq/10x_CITE_seq/h5ad/16plex_human_PBMC_TotalSeqC_multiplex_PBMC_05_BC5_AB5.h5ad\n",
      "finished:  /Genomics/pritykinlab/yujie/preprocessing_benchmarking/datasets/CITE_seq/10x_CITE_seq/h5ad/16plex_human_PBMC_TotalSeqC_multiplex_PBMC_13_BC13_AB13.h5ad\n"
     ]
    },
    {
     "name": "stderr",
     "output_type": "stream",
     "text": [
      "/Genomics/argo/users/yq7946/.conda/envs/myenv/lib/python3.9/site-packages/anndata/_core/anndata.py:1840: UserWarning: Variable names are not unique. To make them unique, call `.var_names_make_unique`.\n",
      "  utils.warn_names_duplicates(\"var\")\n",
      "/Genomics/argo/users/yq7946/.conda/envs/myenv/lib/python3.9/site-packages/anndata/_core/anndata.py:1840: UserWarning: Variable names are not unique. To make them unique, call `.var_names_make_unique`.\n",
      "  utils.warn_names_duplicates(\"var\")\n",
      "/Genomics/argo/users/yq7946/.conda/envs/myenv/lib/python3.9/site-packages/anndata/_core/anndata.py:1840: UserWarning: Variable names are not unique. To make them unique, call `.var_names_make_unique`.\n",
      "  utils.warn_names_duplicates(\"var\")\n",
      "/Genomics/argo/users/yq7946/.conda/envs/myenv/lib/python3.9/site-packages/anndata/_core/anndata.py:1840: UserWarning: Variable names are not unique. To make them unique, call `.var_names_make_unique`.\n",
      "  utils.warn_names_duplicates(\"var\")\n"
     ]
    },
    {
     "name": "stdout",
     "output_type": "stream",
     "text": [
      "finished:  /Genomics/pritykinlab/yujie/preprocessing_benchmarking/datasets/CITE_seq/10x_CITE_seq/h5ad/4plex_mouse_LymphNode_Spleen_TotalSeqC_multiplex_Spleen1_BC3_AB3.h5ad\n",
      "finished:  /Genomics/pritykinlab/yujie/preprocessing_benchmarking/datasets/CITE_seq/10x_CITE_seq/h5ad/16plex_human_PBMC_TotalSeqC_multiplex_PBMC_01_BC1_AB1.h5ad\n",
      "finished:  /Genomics/pritykinlab/yujie/preprocessing_benchmarking/datasets/CITE_seq/10x_CITE_seq/h5ad/7k_melanoma_TBNK_connect_7k_melanoma_TBNK_connect.h5ad\n",
      "finished:  /Genomics/pritykinlab/yujie/preprocessing_benchmarking/datasets/CITE_seq/10x_CITE_seq/h5ad/16plex_human_PBMC_TotalSeqC_multiplex_PBMC_04_BC4_AB4.h5ad\n",
      "  Dataset Type     Second Modality/Ground Truth  Total Number of Cells  \\\n",
      "0  Perturb-seq                     Perturbation                1144202   \n",
      "1     CITE-seq  Cell Surface Protein Expression                 269506   \n",
      "\n",
      "   Number of Datasets  \n",
      "0                  20  \n",
      "1                  33  \n"
     ]
    },
    {
     "name": "stderr",
     "output_type": "stream",
     "text": [
      "/Genomics/argo/users/yq7946/.conda/envs/myenv/lib/python3.9/site-packages/anndata/_core/anndata.py:1840: UserWarning: Variable names are not unique. To make them unique, call `.var_names_make_unique`.\n",
      "  utils.warn_names_duplicates(\"var\")\n"
     ]
    }
   ],
   "source": [
    "import glob\n",
    "import pandas as pd\n",
    "import scanpy as sc\n",
    "\n",
    "def process_datasets(path, dataset_type, second_modality, excluded_datasets):\n",
    "    datasets = glob.glob(path)\n",
    "    # Filter out excluded datasets\n",
    "    datasets = [d for d in datasets if not any(ex_name in d for ex_name in excluded_datasets)]\n",
    "    total_cells = 0\n",
    "    for data in datasets:\n",
    "        try:\n",
    "            # Open the file in backed mode without using 'with'\n",
    "            adata = sc.read_h5ad(data, backed='r')\n",
    "            n_cells, _ = adata.shape\n",
    "            total_cells += n_cells\n",
    "            print(\"finished: \", data)\n",
    "        finally:\n",
    "            # If the object has a file backing, close it manually\n",
    "            if hasattr(adata, 'file'):\n",
    "                adata.file.close()\n",
    "\n",
    "    dataset_counts = len(datasets)\n",
    "\n",
    "    return pd.DataFrame({\n",
    "        'Dataset Type': [dataset_type],\n",
    "        'Second Modality/Ground Truth': [second_modality],\n",
    "        'Total Number of Cells': [total_cells],\n",
    "        'Number of Datasets': [dataset_counts]\n",
    "    })\n",
    "\n",
    "# List of datasets to be excluded\n",
    "excluded = [\n",
    "    'ReplogleWeissman2022_K562_gwps.h5ad', 'SchiebingerLander2019_GSE115943.h5ad', \n",
    "    'FrangiehIzar2021_RNA.h5ad', 'McFarlandTsherniak2020.h5ad', \n",
    "    'TianKampmann2019_iPSC.h5ad', 'ReplogleWeissman2022_rpe1.h5ad', \n",
    "    'ReplogleWeissman2022_K562_essential.h5ad'\n",
    "]\n",
    "\n",
    "\n",
    "perturb_seq_path = \"/Genomics/pritykinlab/yujie/preprocessing_benchmarking/datasets/harmonized_perturb_datasets/*.h5ad\"\n",
    "cite_seq_path = \"/Genomics/pritykinlab/yujie/preprocessing_benchmarking/datasets/CITE_seq/10x_CITE_seq/h5ad/*.h5ad\"\n",
    "\n",
    "\n",
    "perturb_seq_df = process_datasets(perturb_seq_path, 'Perturb-seq', 'Perturbation', excluded)\n",
    "cite_seq_df = process_datasets(cite_seq_path, 'CITE-seq', 'Cell Surface Protein Expression', [])\n",
    "combined_df = pd.concat([perturb_seq_df, cite_seq_df], ignore_index=True)\n",
    "\n",
    "\n",
    "print(combined_df)\n"
   ]
  },
  {
   "cell_type": "code",
   "execution_count": 2,
   "id": "85845fec-0d23-4848-8f5d-123a25dc015f",
   "metadata": {},
   "outputs": [
    {
     "data": {
      "image/png": "[encoded data removed]",
      "text/plain": [
       "<Figure size 1600x500 with 1 Axes>"
      ]
     },
     "metadata": {},
     "output_type": "display_data"
    }
   ],
   "source": [
    "import matplotlib.pyplot as plt\n",
    "\n",
    "# Plotting the DataFrame as a table\n",
    "fig, ax = plt.subplots(figsize=(16, 5))  # Adjust the size as needed\n",
    "ax.axis('tight')\n",
    "ax.axis('off')\n",
    "table = ax.table(cellText=combined_df.values, colLabels=combined_df.columns, loc='center')\n",
    "\n",
    "\n",
    "plt.show()"
   ]
  }
 ],
 "metadata": {
  "kernelspec": {
   "display_name": "Python 3 (ipykernel)",
   "language": "python",
   "name": "python3"
  },
  "language_info": {
   "codemirror_mode": {
    "name": "ipython",
    "version": 3
   },
   "file_extension": ".py",
   "mimetype": "text/x-python",
   "name": "python",
   "nbconvert_exporter": "python",
   "pygments_lexer": "ipython3",
   "version": "3.9.17"
  }
 },
 "nbformat": 4,
 "nbformat_minor": 5
}
