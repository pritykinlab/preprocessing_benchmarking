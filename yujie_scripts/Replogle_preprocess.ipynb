{
 "cells": [
  {
   "cell_type": "code",
   "execution_count": 1,
   "id": "6640b328-61b2-42b5-87fb-172856f6cd11",
   "metadata": {},
   "outputs": [],
   "source": [
    "import pandas as pd\n",
    "import math\n",
    "import seaborn as sns\n",
    "import numpy as np\n",
    "import matplotlib.pyplot as plt\n",
    "import sys\n",
    "import gzip as gz\n",
    "import scipy\n",
    "from importlib import reload\n",
    "import glob\n",
    "import tqdm\n",
    "import itertools\n",
    "from scipy.spatial.distance import cdist\n",
    "import scanpy as sc\n",
    "\n",
    "import sys\n",
    "sys.path.append('/Genomics/pritykinlab/dillon/perturbseq/scripts/utils')\n",
    "import dataloader\n",
    "import umap_analysis\n",
    "import reimplementation\n",
    "import normalization\n",
    "import adata_utils\n",
    "from scipy.stats import mannwhitneyu"
   ]
  },
  {
   "cell_type": "code",
   "execution_count": 2,
   "id": "d15a15cb-0d90-4d58-9370-2ffdee792fcd",
   "metadata": {},
   "outputs": [],
   "source": [
    "plt.rcParams[\"axes.titlesize\"] = 25\n",
    "plt.rcParams[\"axes.labelsize\"] = 25\n",
    "plt.rcParams[\"xtick.labelsize\"] = 20\n",
    "plt.rcParams[\"ytick.labelsize\"] = 20\n",
    "plt.rcParams[\"lines.markersize\"] = 5\n",
    "plt.rcParams['axes.grid'] = False\n",
    "plt.rcParams['xtick.bottom'] = True\n",
    "plt.rcParams['ytick.left'] = True\n",
    "plt.rcParams['xtick.major.size'] = 5\n",
    "plt.rcParams['xtick.minor.size'] = 3\n",
    "plt.rcParams['ytick.major.size'] = 5\n",
    "plt.rcParams['ytick.minor.size'] = 3\n",
    "plt.rcParams['axes.labelcolor'] = 'black'\n",
    "plt.rcParams['axes.edgecolor'] = 'black'\n",
    "plt.rcParams['xtick.color'] = 'black'\n",
    "plt.rcParams['legend.fontsize'] = 15\n",
    "plt.rcParams['legend.title_fontsize'] = 15\n",
    "plt.rcParams['legend.edgecolor'] = 'dimgray'"
   ]
  },
  {
   "cell_type": "markdown",
   "id": "793866a1-b6d4-45e9-897d-406b658a34f2",
   "metadata": {},
   "source": [
    "# Cleaning up the data"
   ]
  },
  {
   "cell_type": "markdown",
   "id": "8039ba33-61ba-432c-9d69-f7c6890fdaa9",
   "metadata": {},
   "source": [
    "Preprocess this data:\n",
    "```\n",
    "/Genomics/pritykinlab/share/perturbseq/GW_perturbseq/test/K562_essential_other/\n",
    "    KD6_10_essential_barcodes.tsv.gz\n",
    "    KD6_10_essential_features.tsv.gz\n",
    "    KD6_10_essential_matrix.mtx.gz\n",
    "    KD6_11_essential_barcodes.tsv.gz\n",
    "    KD6_11_essential_features.tsv.gz\n",
    "    KD6_11_essential_matrix.mtx.gz\n",
    "    KD6_12_essential_barcodes.tsv.gz\n",
    "    KD6_12_essential_features.tsv.gz\n",
    "    KD6_12_essential_matrix.mtx.gz\n",
    "    KD6_13_essential_barcodes.tsv.gz\n",
    "    KD6_13_essential_features.tsv.gz\n",
    "    KD6_13_essential_matrix.mtx.gz\n",
    "    KD6_14_essential_barcodes.tsv.gz\n",
    "    KD6_14_essential_features.tsv.gz\n",
    "    KD6_14_essential_matrix.mtx.gz\n",
    "    KD6_15_essential_barcodes.tsv.gz\n",
    "    KD6_15_essential_features.tsv.gz\n",
    "    ...\n",
    "    KD6_{x}_essential_features.tsv.gz\n",
    "    KD6_{x}_essential_barcodes.tsv.gz\n",
    "    KD6_{x}_essential_matrix.mtx.gz\n",
    "    ...\n",
    "```\n",
    "Into this format:\n",
    "```\n",
    "/Genomics/pritykinlab/share/perturbseq/GW_perturbseq/test/K562_essential_raw\n",
    "    1/\n",
    "        barcodes.tsv.gz\n",
    "        matrix.mtx.gz\n",
    "        features.tsv.gz\n",
    "    2/\n",
    "        barcodes.tsv.gz\n",
    "        matrix.mtx.gz\n",
    "        features.tsv.gz\n",
    "    ...\n",
    "    {x}/\n",
    "        barcodes.tsv.gz\n",
    "        matrix.mtx.gz\n",
    "        features.tsv.gz\n",
    "```"
   ]
  },
  {
   "cell_type": "code",
   "execution_count": 3,
   "id": "c30a5ba8-ba98-4f15-b3e6-27c13702a9e1",
   "metadata": {},
   "outputs": [
    {
     "name": "stdout",
     "output_type": "stream",
     "text": [
      "Downloading 36000572...\n",
      "Downloaded 36000572 successfully.\n",
      "Downloading 36000888...\n",
      "Downloaded 36000888 successfully.\n",
      "All files have been downloaded.\n"
     ]
    }
   ],
   "source": [
    "import os\n",
    "import requests\n",
    "\n",
    "# Redownload \"ReplogleWeissman\" dataset from source paper link: https://plus.figshare.com/articles/dataset/_Mapping_information-rich_genotype-phenotype_landscapes_with_genome-scale_Perturb-seq_Replogle_et_al_2022_processed_Perturb-seq_datasets/20029387\n",
    "input_adata_file = [\"https://plus.figshare.com/ndownloader/files/36000572\",\n",
    "\"https://plus.figshare.com/ndownloader/files/36000888\"]\n",
    "\n",
    "# The directory where you want to save the files\n",
    "output_dir = \"/Genomics/pritykinlab/yujie/preprocessing_benchmarking/Replogle\"\n",
    "\n",
    "# Ensure the output directory exists\n",
    "os.makedirs(output_dir, exist_ok=True)\n",
    "\n",
    "# Loop over the list of URLs\n",
    "for url in input_adata_file:\n",
    "    # Extract the file name from the URL\n",
    "    file_name = url.split('/')[-1]\n",
    "    # Define the path to save the file\n",
    "    output_path = os.path.join(output_dir, file_name)\n",
    "    \n",
    "    # Print the file being downloaded (optional)\n",
    "    print(f\"Downloading {file_name}...\")\n",
    "    \n",
    "    # Make the request to download the file\n",
    "    response = requests.get(url)\n",
    "    \n",
    "    # Check if the request was successful\n",
    "    if response.status_code == 200:\n",
    "        # Write the content to the file\n",
    "        with open(output_path, 'wb') as f:\n",
    "            f.write(response.content)\n",
    "        print(f\"Downloaded {file_name} successfully.\")\n",
    "    else:\n",
    "        print(f\"Failed to download {file_name}. Status code: {response.status_code}\")\n",
    "\n",
    "print(\"All files have been downloaded.\")"
   ]
  }
 ],
 "metadata": {
  "kernelspec": {
   "display_name": "Python 3 (ipykernel)",
   "language": "python",
   "name": "python3"
  },
  "language_info": {
   "codemirror_mode": {
    "name": "ipython",
    "version": 3
   },
   "file_extension": ".py",
   "mimetype": "text/x-python",
   "name": "python",
   "nbconvert_exporter": "python",
   "pygments_lexer": "ipython3",
   "version": "3.9.17"
  }
 },
 "nbformat": 4,
 "nbformat_minor": 5
}
