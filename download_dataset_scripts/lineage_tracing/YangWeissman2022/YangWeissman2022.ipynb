{
 "cells": [
  {
   "cell_type": "code",
   "execution_count": 1,
   "id": "522b80dd",
   "metadata": {},
   "outputs": [],
   "source": [
    "import pandas as pd\n",
    "import math\n",
    "import seaborn as sns\n",
    "import numpy as np\n",
    "import matplotlib.pyplot as plt\n",
    "import sys\n",
    "import gzip as gz\n",
    "import scipy\n",
    "from importlib import reload\n",
    "import glob\n",
    "import tqdm\n",
    "import itertools\n",
    "from scipy.spatial.distance import cdist\n",
    "import scanpy as sc\n",
    "\n",
    "import sys\n",
    "sys.path.append('/Genomics/pritykinlab/dillon/perturbseq/scripts/utils')\n",
    "import dataloader\n",
    "import umap_analysis\n",
    "import reimplementation\n",
    "import normalization\n",
    "import adata_utils\n",
    "from scipy.stats import mannwhitneyu"
   ]
  },
  {
   "cell_type": "code",
   "execution_count": 2,
   "id": "4b182bd7",
   "metadata": {},
   "outputs": [],
   "source": [
    "plt.rcParams[\"axes.titlesize\"] = 25\n",
    "plt.rcParams[\"axes.labelsize\"] = 25\n",
    "plt.rcParams[\"xtick.labelsize\"] = 20\n",
    "plt.rcParams[\"ytick.labelsize\"] = 20\n",
    "plt.rcParams[\"lines.markersize\"] = 5\n",
    "plt.rcParams['axes.grid'] = False\n",
    "plt.rcParams['xtick.bottom'] = True\n",
    "plt.rcParams['ytick.left'] = True\n",
    "plt.rcParams['xtick.major.size'] = 5\n",
    "plt.rcParams['xtick.minor.size'] = 3\n",
    "plt.rcParams['ytick.major.size'] = 5\n",
    "plt.rcParams['ytick.minor.size'] = 3\n",
    "plt.rcParams['axes.labelcolor'] = 'black'\n",
    "plt.rcParams['axes.edgecolor'] = 'black'\n",
    "plt.rcParams['xtick.color'] = 'black'\n",
    "plt.rcParams['legend.fontsize'] = 15\n",
    "plt.rcParams['legend.title_fontsize'] = 15\n",
    "plt.rcParams['legend.edgecolor'] = 'dimgray'\n",
    "plt.rcParams['figure.figsize'] = (7,7)"
   ]
  },
  {
   "cell_type": "markdown",
   "id": "a129d9fb",
   "metadata": {},
   "source": [
    "# Only the non-targeting data can be found\n",
    "\n",
    "This is the paper:\n",
    "- https://www.cell.com/cell/pdf/S0092-8674(22)00462-7.pdf"
   ]
  },
  {
   "cell_type": "code",
   "execution_count": 4,
   "id": "3354819d",
   "metadata": {},
   "outputs": [],
   "source": [
    "adata2 = sc.read_h5ad(\"/Genomics/pritykinlab/share/perturbseq/YangWeissman2022/KPTracer-Data/expression/adata_processed.nt.h5ad\")"
   ]
  },
  {
   "cell_type": "code",
   "execution_count": 8,
   "id": "956f4379",
   "metadata": {},
   "outputs": [
    {
     "data": {
      "text/plain": [
       "AnnData object with n_obs × n_vars = 58022 × 27998\n",
       "    obs: 'TS_Present', 'RNA_Present', 'MULTI', 'TS_UMI', 'NUM_INTBC', 'Lane', 'Tumor', 'SubTumor', 'ES_clone', 'genotype', 'Aging_time', 'Mouse', 'Aging_Month', 'Batch_Library', 'Batch_Harvest', 'Aging_Time', 'MetFamily', 'lentiBC', 'is_normal', 'PercentUncut', 'leiden', 'n_counts', 'leiden_sub', 'Cluster-Name'\n",
       "    uns: 'Cluster-Name_colors', 'Lane_colors', 'leiden', 'leiden_colors', 'neighbors'\n",
       "    obsm: 'X_scVI', 'X_umap'\n",
       "    obsp: 'connectivities', 'distances'"
      ]
     },
     "execution_count": 8,
     "metadata": {},
     "output_type": "execute_result"
    }
   ],
   "source": [
    "adata2"
   ]
  },
  {
   "cell_type": "code",
   "execution_count": null,
   "id": "b54b81bd",
   "metadata": {},
   "outputs": [],
   "source": []
  }
 ],
 "metadata": {
  "kernelspec": {
   "display_name": "Python [conda env:scvi]",
   "language": "python",
   "name": "conda-env-scvi-py"
  },
  "language_info": {
   "codemirror_mode": {
    "name": "ipython",
    "version": 3
   },
   "file_extension": ".py",
   "mimetype": "text/x-python",
   "name": "python",
   "nbconvert_exporter": "python",
   "pygments_lexer": "ipython3",
   "version": "3.10.9"
  }
 },
 "nbformat": 4,
 "nbformat_minor": 5
}
