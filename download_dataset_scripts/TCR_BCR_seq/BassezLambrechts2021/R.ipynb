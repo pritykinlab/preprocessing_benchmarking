{
 "cells": [
  {
   "cell_type": "code",
   "execution_count": 1,
   "id": "8e7ea86a",
   "metadata": {},
   "outputs": [
    {
     "name": "stderr",
     "output_type": "stream",
     "text": [
      "The legacy packages maptools, rgdal, and rgeos, underpinning the sp package,\n",
      "which was just loaded, will retire in October 2023.\n",
      "Please refer to R-spatial evolution reports for details, especially\n",
      "https://r-spatial.org/r/2023/05/15/evolution4.html.\n",
      "It may be desirable to make the sf package available;\n",
      "package maintainers should consider adding sf to Suggests:.\n",
      "The sp package is now running under evolution status 2\n",
      "     (status 2 uses the sf package in place of rgdal)\n",
      "\n",
      "Attaching SeuratObject\n",
      "\n"
     ]
    }
   ],
   "source": [
    "library(Seurat)"
   ]
  },
  {
   "cell_type": "code",
   "execution_count": 2,
   "id": "bf155cc2",
   "metadata": {},
   "outputs": [],
   "source": [
    "file <- \"/Genomics/pritykinlab/dillon/other_studies/BassezLambrechts2021/1864-counts_tcell_cohort1.rds\"\n",
    "\n",
    "obj <- readRDS(file = file)"
   ]
  },
  {
   "cell_type": "code",
   "execution_count": 13,
   "id": "621f1cb8",
   "metadata": {},
   "outputs": [],
   "source": [
    "output_file <- \"/Genomics/pritykinlab/dillon/other_studies/BassezLambrechts2021/processed/T_cell_counts.csv\""
   ]
  },
  {
   "cell_type": "code",
   "execution_count": 12,
   "id": "35a26bf9",
   "metadata": {},
   "outputs": [
    {
     "name": "stdout",
     "output_type": "stream",
     "text": [
      "[1] \"dgCMatrix\"\n",
      "attr(,\"package\")\n",
      "[1] \"Matrix\"\n"
     ]
    }
   ],
   "source": [
    "# Ensure that the Matrix library is loaded\n",
    "library(Matrix)\n",
    "\n",
    "# Check the class of the object\n",
    "print(class(obj))\n",
    "\n",
    "# Assuming 'obj' is a dgCMatrix\n",
    "nonzero_entries <- summary(obj)\n",
    "df <- as.data.frame(nonzero_entries)\n",
    "\n",
    "# Write the data frame to a CSV file\n",
    "write.csv(df, output_file, row.names = FALSE)\n"
   ]
  },
  {
   "cell_type": "markdown",
   "id": "1e20785b",
   "metadata": {},
   "source": [
    "# 10x format"
   ]
  },
  {
   "cell_type": "code",
   "execution_count": 3,
   "id": "0052c1b4",
   "metadata": {},
   "outputs": [],
   "source": [
    "file <- \"/Genomics/pritykinlab/dillon/other_studies/BassezLambrechts2021/1864-counts_tcell_cohort1.rds\"\n",
    "\n",
    "obj <- readRDS(file = file)"
   ]
  },
  {
   "cell_type": "code",
   "execution_count": 4,
   "id": "70b86c93",
   "metadata": {},
   "outputs": [],
   "source": [
    "# Convert to a Seurat object if not already\n",
    "# This step depends on the format of 'obj'\n",
    "# For example, if 'obj' is a dgCMatrix:\n",
    "seurat_obj <- CreateSeuratObject(counts = obj)\n",
    "\n",
    "# Define the output path\n",
    "output_path <- \"/Genomics/pritykinlab/dillon/other_studies/BassezLambrechts2021/10x_Tcell\""
   ]
  },
  {
   "cell_type": "code",
   "execution_count": 5,
   "id": "27c67f74",
   "metadata": {},
   "outputs": [],
   "source": [
    "# Assuming 'seurat_obj' is your Seurat object\n",
    "library(Matrix)\n",
    "\n",
    "# Extract the sparse matrix\n",
    "sparse_matrix <- as(seurat_obj@assays$RNA@counts, \"dgCMatrix\")\n",
    "\n",
    "# Extract barcodes (cell names) and genes\n",
    "barcodes <- colnames(sparse_matrix)\n",
    "genes <- rownames(sparse_matrix)\n"
   ]
  },
  {
   "cell_type": "code",
   "execution_count": 6,
   "id": "d77725d4",
   "metadata": {},
   "outputs": [],
   "source": [
    "write.table(barcodes, file = \"/Genomics/pritykinlab/dillon/other_studies/BassezLambrechts2021/10x_Tcell/barcodes.tsv\", col.names = FALSE, row.names = FALSE, quote = FALSE)\n"
   ]
  },
  {
   "cell_type": "code",
   "execution_count": 7,
   "id": "ddc740c5",
   "metadata": {},
   "outputs": [],
   "source": [
    "# If you only have gene symbols or IDs\n",
    "write.table(genes, file = \"/Genomics/pritykinlab/dillon/other_studies/BassezLambrechts2021/10x_Tcell/genes.tsv\", col.names = FALSE, row.names = FALSE, quote = FALSE)\n"
   ]
  },
  {
   "cell_type": "code",
   "execution_count": 8,
   "id": "1ec9ee3b",
   "metadata": {},
   "outputs": [
    {
     "data": {
      "text/plain": [
       "NULL"
      ]
     },
     "metadata": {},
     "output_type": "display_data"
    }
   ],
   "source": [
    "writeMM(sparse_matrix, file = \"/Genomics/pritykinlab/dillon/other_studies/BassezLambrechts2021/10x_Tcell/matrix.mtx\")"
   ]
  },
  {
   "cell_type": "code",
   "execution_count": null,
   "id": "2e1d124c",
   "metadata": {},
   "outputs": [],
   "source": []
  }
 ],
 "metadata": {
  "kernelspec": {
   "display_name": "R [conda env:seurat]",
   "language": "R",
   "name": "conda-env-seurat-r"
  },
  "language_info": {
   "codemirror_mode": "r",
   "file_extension": ".r",
   "mimetype": "text/x-r-source",
   "name": "R",
   "pygments_lexer": "r",
   "version": "4.2.0"
  }
 },
 "nbformat": 4,
 "nbformat_minor": 5
}
